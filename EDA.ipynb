{
 "cells": [
  {
   "cell_type": "code",
   "execution_count": null,
   "id": "f536e8d0-95dc-4cc8-952b-c045ea2c89f8",
   "metadata": {},
   "outputs": [],
   "source": [
    "import pandas as pd\n",
    "import numpy as np\n",
    "\n",
    "from datetime import date"
   ]
  },
  {
   "cell_type": "markdown",
   "id": "585e931c-47dd-4420-b433-65546f980570",
   "metadata": {},
   "source": [
    "### Importando dataset e-commerce\n",
    "\n",
    "Para mas informacion del dataset, consulte en el siguiente [link](https://www.kaggle.com/datasets/carrie1/ecommerce-data) "
   ]
  },
  {
   "cell_type": "code",
   "execution_count": null,
   "id": "9015229e-beac-4546-bf9d-deeecec148f8",
   "metadata": {},
   "outputs": [],
   "source": [
    "ecommerce = pd.read_csv(\"ecommerce.csv\")"
   ]
  },
  {
   "cell_type": "code",
   "execution_count": null,
   "id": "29f93f92-c02b-499f-90a2-bbfdfedc181d",
   "metadata": {},
   "outputs": [],
   "source": [
    "ecommerce.head(5)"
   ]
  },
  {
   "cell_type": "code",
   "execution_count": null,
   "id": "3f1a91b1-2a14-4e75-8c45-417b78cf1310",
   "metadata": {},
   "outputs": [],
   "source": [
    "ecommerce.shape"
   ]
  },
  {
   "cell_type": "markdown",
   "id": "8650b37c-cd28-4923-ae94-908dadf4bf69",
   "metadata": {},
   "source": [
    "### cast de fechas y tratamiento de columnas Dias, mes, año"
   ]
  },
  {
   "cell_type": "code",
   "execution_count": null,
   "id": "4523f5e7-902a-4057-b5c7-66c9eea3e63f",
   "metadata": {},
   "outputs": [],
   "source": [
    "ecommerce.dtypes"
   ]
  },
  {
   "cell_type": "code",
   "execution_count": null,
   "id": "1b6dc6a7-c51b-445f-89df-7a8da46950bb",
   "metadata": {},
   "outputs": [],
   "source": [
    "ecommerce[\"InvoiceDate\"] = pd.to_datetime(ecommerce[\"InvoiceDate\"])"
   ]
  },
  {
   "cell_type": "code",
   "execution_count": null,
   "id": "5948f0a8-8a04-4bd0-b111-919ce302e0a8",
   "metadata": {},
   "outputs": [],
   "source": [
    "ecommerce.dtypes"
   ]
  },
  {
   "cell_type": "code",
   "execution_count": null,
   "id": "3bf11eef-d788-4bfd-b5f0-37768065e74c",
   "metadata": {},
   "outputs": [],
   "source": [
    "ecommerce.head(1)"
   ]
  },
  {
   "cell_type": "code",
   "execution_count": null,
   "id": "31abe82c-bd2d-4dfa-adfb-46fc2919743d",
   "metadata": {},
   "outputs": [],
   "source": [
    "ecommerce[\"year\"] = ecommerce[\"InvoiceDate\"].dt.year\n",
    "ecommerce[\"month\"] = ecommerce[\"InvoiceDate\"].dt.month\n",
    "ecommerce[\"day\"] = ecommerce[\"InvoiceDate\"].dt.day"
   ]
  },
  {
   "cell_type": "code",
   "execution_count": null,
   "id": "8d470a46-bd5c-4346-bbce-04172ab0592c",
   "metadata": {},
   "outputs": [],
   "source": [
    "ecommerce.head(1)"
   ]
  },
  {
   "cell_type": "markdown",
   "id": "44b41184-9937-4ca6-85a8-11bb254c26fc",
   "metadata": {},
   "source": [
    "#### Exploracion de paises"
   ]
  },
  {
   "cell_type": "code",
   "execution_count": null,
   "id": "46440f57-adfa-497f-a35d-ebf67b2d5a63",
   "metadata": {},
   "outputs": [],
   "source": [
    "ecommerce[\"Country\"].drop_duplicates()"
   ]
  },
  {
   "cell_type": "markdown",
   "id": "59467bac-70e6-495b-ad2a-151cafb1fd81",
   "metadata": {},
   "source": [
    "### Ejercicios"
   ]
  },
  {
   "cell_type": "markdown",
   "id": "70bb9dfe-ecad-4be0-a0fa-c480d8a1f897",
   "metadata": {},
   "source": [
    "**Ejercicio 1:** Por pais muestre cual fue el año en el que mejor ingreso se registro y su valor, adicional muestre cual fue el año con mas Invoices (Frecuencia) y otra columna con el total.\n",
    "\n",
    "Nota: Note que el año con mejor ingreso no es lo mismo con el año con mas invoices, por ejemplo en 2019 Honduras en dos invoices se facturo 10,000. sin embargo, en 2020 se realizaron 20 invoices (pueda que en este año el ingreso de esas invoices hayan sumado 7,000 inferior al 2020) \n",
    "\n",
    "*recuerde que el ejemplo es inventado*\n",
    "\n",
    "Ejemplo de como se deberia de ver el dataframe resultante:\n"
   ]
  },
  {
   "cell_type": "code",
   "execution_count": null,
   "id": "55fe6436-310a-419a-81e0-6afcb8d382fe",
   "metadata": {},
   "outputs": [],
   "source": [
    "pd.DataFrame({\n",
    "    \"country\" : [\"Honduras\"]\n",
    "    , \"YearMejorIngreso\" : [2019]\n",
    "    , \"ValorYearMejorIngreso\" : [20000]\n",
    "    , \"YearMejorFrecuenciaInvoices\": [2020]\n",
    "    , \"CantidadYearMejorFrecuenciaInvoices\": [20]\n",
    "})"
   ]
  },
  {
   "cell_type": "markdown",
   "id": "cff03062-89d2-4e55-b2ee-29c492828efa",
   "metadata": {},
   "source": [
    "*Answer:*"
   ]
  },
  {
   "cell_type": "code",
   "execution_count": null,
   "id": "b31297a4-b82d-49ad-ba2c-faa09fef075e",
   "metadata": {},
   "outputs": [],
   "source": [
    "ecommerce[\"total\"]=ecommerce.Quantity*ecommerce.UnitPrice"
   ]
  },
  {
   "cell_type": "code",
   "execution_count": null,
   "id": "a1e38abc-f65e-4dbe-8606-5c41ddb3b665",
   "metadata": {},
   "outputs": [],
   "source": [
    "ecommerce.sort_values([\"Country\", \"year\",\"total\"], ascending=False)"
   ]
  },
  {
   "cell_type": "code",
   "execution_count": null,
   "id": "f839a201-08fa-4aa7-a215-360bee7327b7",
   "metadata": {},
   "outputs": [],
   "source": []
  },
  {
   "cell_type": "code",
   "execution_count": null,
   "id": "df9f44aa-7a0f-4368-b3ce-69b0285ec114",
   "metadata": {},
   "outputs": [],
   "source": [
    "cy=ecommerce.loc[:,[\"Country\", \"year\", \"total\"]].drop_duplicates().groupby([\"Country\",\"year\"],as_index=False).agg({'total':'sum'})"
   ]
  },
  {
   "cell_type": "code",
   "execution_count": null,
   "id": "0225b315-8c29-4b88-b518-f9d403d9eacf",
   "metadata": {},
   "outputs": [],
   "source": [
    "cy=cy.sort_index(ascending=False).drop_duplicates(subset=\"Country\",keep=\"first\")"
   ]
  },
  {
   "cell_type": "code",
   "execution_count": null,
   "id": "f75a19cd-e58c-4eb9-81b8-61fb73fd8c48",
   "metadata": {},
   "outputs": [],
   "source": [
    "cy=cy.sort_index(ascending=True)"
   ]
  },
  {
   "cell_type": "code",
   "execution_count": null,
   "id": "ed220d08-3bcc-495a-bcc2-36ddb97bc06c",
   "metadata": {},
   "outputs": [],
   "source": [
    "cy"
   ]
  },
  {
   "cell_type": "code",
   "execution_count": null,
   "id": "692ebbab-c3b2-4a8d-b442-673f2464312c",
   "metadata": {},
   "outputs": [],
   "source": []
  },
  {
   "cell_type": "code",
   "execution_count": null,
   "id": "da0d10c7-6548-4ce7-8f7a-5c372638f656",
   "metadata": {},
   "outputs": [],
   "source": [
    "ci=ecommerce.loc[:,[ \"Country\",\"year\",\"InvoiceNo\"]].drop_duplicates().groupby([\"Country\",\"year\"],as_index=False).agg({'InvoiceNo':'count'})"
   ]
  },
  {
   "cell_type": "code",
   "execution_count": null,
   "id": "8612213f-2367-4d68-a3bb-218b52a5c85e",
   "metadata": {},
   "outputs": [],
   "source": [
    "ci=ci.sort_index(ascending=False).drop_duplicates(subset=\"Country\",keep=\"first\")"
   ]
  },
  {
   "cell_type": "code",
   "execution_count": null,
   "id": "a53771c5-ad89-4507-b860-eb0b61b85789",
   "metadata": {},
   "outputs": [],
   "source": [
    "ci=ci.sort_index(ascending=True)"
   ]
  },
  {
   "cell_type": "code",
   "execution_count": null,
   "id": "a4dc779d-539c-4711-9b0c-50baa0297e54",
   "metadata": {},
   "outputs": [],
   "source": [
    "ci"
   ]
  },
  {
   "cell_type": "code",
   "execution_count": null,
   "id": "88de67ef-67d6-401e-8cf5-e2fff2aef202",
   "metadata": {},
   "outputs": [],
   "source": [
    "ci.rename(columns={'year':'YearMejorFrecuenciaInvoices'}, inplace=True)"
   ]
  },
  {
   "cell_type": "code",
   "execution_count": null,
   "id": "cfdc66c8-b4e3-471d-9a60-fdc6c5925030",
   "metadata": {},
   "outputs": [],
   "source": [
    "ci.rename(columns={'InvoiceNo':'CantidadYearMejorFrecuenciaInvoices'}, inplace=True)"
   ]
  },
  {
   "cell_type": "code",
   "execution_count": null,
   "id": "e48be1e7-c112-454a-bef8-b0749e5ea973",
   "metadata": {},
   "outputs": [],
   "source": [
    "cy.rename(columns={'year':'YearMejorIngreso'}, inplace=True)"
   ]
  },
  {
   "cell_type": "code",
   "execution_count": null,
   "id": "8879f84f-f05c-464e-98ea-aad7d6260f57",
   "metadata": {},
   "outputs": [],
   "source": [
    "cy.rename(columns={'total':'ValorYearMejorIngreso'}, inplace=True)"
   ]
  },
  {
   "cell_type": "code",
   "execution_count": null,
   "id": "a3abdea5-e185-46dd-b9aa-024a215f74f7",
   "metadata": {},
   "outputs": [],
   "source": [
    "ci"
   ]
  },
  {
   "cell_type": "code",
   "execution_count": null,
   "id": "cff3f906-2913-433b-9618-8ae9b5fe8417",
   "metadata": {},
   "outputs": [],
   "source": [
    "ct=cy.merge(ci, on=[\"Country\"], how=\"left\")"
   ]
  },
  {
   "cell_type": "code",
   "execution_count": null,
   "id": "8b7a340c-6314-41dc-b375-5cf46de6a7fa",
   "metadata": {},
   "outputs": [],
   "source": [
    "ct"
   ]
  },
  {
   "cell_type": "code",
   "execution_count": null,
   "id": "9f466284-3871-49ce-8e37-fea98fe968bf",
   "metadata": {},
   "outputs": [],
   "source": []
  },
  {
   "cell_type": "code",
   "execution_count": null,
   "id": "0343f05b-0632-49b9-9918-4d36d643eb5b",
   "metadata": {},
   "outputs": [],
   "source": []
  },
  {
   "cell_type": "code",
   "execution_count": null,
   "id": "eb5b040d-4a59-4f8b-a7d9-16d3217071a3",
   "metadata": {},
   "outputs": [],
   "source": []
  },
  {
   "cell_type": "code",
   "execution_count": null,
   "id": "005a0f68-29bf-44b3-b8eb-da77efdb8c3f",
   "metadata": {},
   "outputs": [],
   "source": []
  },
  {
   "cell_type": "code",
   "execution_count": null,
   "id": "5a6f3bd2-79c0-4df6-aad3-b35d04b5e6a0",
   "metadata": {},
   "outputs": [],
   "source": []
  },
  {
   "cell_type": "code",
   "execution_count": null,
   "id": "efcaf7da-f1c4-4af5-8d1a-061f3380086b",
   "metadata": {},
   "outputs": [],
   "source": [
    "\n"
   ]
  },
  {
   "cell_type": "markdown",
   "id": "3c210dae-b3d4-427f-b3f8-f3aae4ba91c4",
   "metadata": {},
   "source": [
    "**Ejercicio 2:** Cual es el Top tres por año de los Invoices de lo mas facturado\n",
    "\n",
    "Ejemplo de como se deberia de ver el dataframe resultante (Recuerde que este es un ejemplo inventado):"
   ]
  },
  {
   "cell_type": "code",
   "execution_count": null,
   "id": "ab5cae1b-b89b-45ef-9b19-eca935d61211",
   "metadata": {},
   "outputs": [],
   "source": [
    "pd.DataFrame({\n",
    "    \"Year\" : [2019,2019,2019,2020,2020,2020]\n",
    "    , \"Top\" : [1,2,3,1,2,3]\n",
    "    , \"InvoiceNo\" : [536365, 536999, 693365, 24987, 56832, 254232]    \n",
    "    , \"TotalInvoice\": [30000,28000,27900,29000,25000,24600]\n",
    "})"
   ]
  },
  {
   "cell_type": "markdown",
   "id": "3fdb5a72-ecda-4731-b43c-1d3027807a79",
   "metadata": {},
   "source": [
    "*Answer:*"
   ]
  },
  {
   "cell_type": "code",
   "execution_count": null,
   "id": "dd95f2b7-6487-45a5-8634-68e11823ead6",
   "metadata": {},
   "outputs": [],
   "source": [
    "e2=ecommerce"
   ]
  },
  {
   "cell_type": "code",
   "execution_count": null,
   "id": "8aff7002-62db-478f-9b7e-e8fca2cf7733",
   "metadata": {},
   "outputs": [],
   "source": []
  },
  {
   "cell_type": "code",
   "execution_count": null,
   "id": "2a477654-16da-43fa-b944-9eddeb740dfb",
   "metadata": {},
   "outputs": [],
   "source": [
    "y1=e2.groupby([\"year\",\"InvoiceNo\"],as_index=False).agg({'InvoiceNo':'count'})"
   ]
  },
  {
   "cell_type": "code",
   "execution_count": null,
   "id": "c09a2e8d-b899-4d2f-b37b-1fe469c33f3c",
   "metadata": {},
   "outputs": [],
   "source": [
    "y2=e2.loc[:,[\"year\",\"InvoiceNo\"]].drop_duplicates()"
   ]
  },
  {
   "cell_type": "code",
   "execution_count": null,
   "id": "5e6025c2-a02a-45ee-86c8-372748355197",
   "metadata": {},
   "outputs": [],
   "source": [
    "y1.rename(columns={'InvoiceNo':'TotalInvoice'}, inplace=True)"
   ]
  },
  {
   "cell_type": "code",
   "execution_count": null,
   "id": "4cf1616a-ab48-4b53-9c7a-1a4f1df28e5d",
   "metadata": {},
   "outputs": [],
   "source": []
  },
  {
   "cell_type": "code",
   "execution_count": null,
   "id": "c8991004-a0d2-4534-8351-6ca0dd85c02f",
   "metadata": {},
   "outputs": [],
   "source": []
  },
  {
   "cell_type": "code",
   "execution_count": null,
   "id": "7d02216b-5bd6-422e-8556-37c438c09ee9",
   "metadata": {},
   "outputs": [],
   "source": []
  },
  {
   "cell_type": "code",
   "execution_count": null,
   "id": "c22dc9f7-cc31-4050-ac27-ce228373a588",
   "metadata": {},
   "outputs": [],
   "source": [
    "e2.loc[:,[\"year\",\"InvoiceNo\"]].groupby([\"year\",\"InvoiceNo\"],as_index=False).agg({'InvoiceNo':'count'})"
   ]
  },
  {
   "cell_type": "code",
   "execution_count": null,
   "id": "25189439-11b5-4fe0-ba0c-7bb61a23da0b",
   "metadata": {},
   "outputs": [],
   "source": [
    "y1.head(50)\n"
   ]
  },
  {
   "cell_type": "code",
   "execution_count": null,
   "id": "f1b0e397-d094-4ef6-914f-b8e5bbc71093",
   "metadata": {},
   "outputs": [],
   "source": [
    "y2.drop(\"year\", inplace=True, axis=1)"
   ]
  },
  {
   "cell_type": "code",
   "execution_count": null,
   "id": "68bbe2ef-c9fe-4065-807f-02343a41f739",
   "metadata": {},
   "outputs": [],
   "source": [
    "y1"
   ]
  },
  {
   "cell_type": "code",
   "execution_count": null,
   "id": "f92b3c3d-d63c-4a04-b9bd-fe35e14e1666",
   "metadata": {},
   "outputs": [],
   "source": [
    "y2"
   ]
  },
  {
   "cell_type": "code",
   "execution_count": null,
   "id": "813f100d-550f-40da-9e82-e10cded6d46a",
   "metadata": {},
   "outputs": [],
   "source": []
  },
  {
   "cell_type": "code",
   "execution_count": null,
   "id": "efca668a-d2ee-4a8f-a482-2bb6ab9a8ce1",
   "metadata": {},
   "outputs": [],
   "source": []
  },
  {
   "cell_type": "code",
   "execution_count": null,
   "id": "0559544d-b168-4e6b-bbf3-9d88f47d8684",
   "metadata": {},
   "outputs": [],
   "source": []
  },
  {
   "cell_type": "code",
   "execution_count": null,
   "id": "9bd23978-1792-4efe-902b-ce88098b52d3",
   "metadata": {},
   "outputs": [],
   "source": []
  },
  {
   "cell_type": "code",
   "execution_count": null,
   "id": "7e199878-a272-478e-8dc6-cad78f77aab6",
   "metadata": {},
   "outputs": [],
   "source": []
  },
  {
   "cell_type": "code",
   "execution_count": null,
   "id": "46d970ba-6fa2-4b6d-bb2d-0514cbe046db",
   "metadata": {},
   "outputs": [],
   "source": []
  },
  {
   "cell_type": "markdown",
   "id": "e894a0a7-ca82-496c-8ede-21e238253736",
   "metadata": {},
   "source": [
    "**Ejercicio 3:** Genere el siguiente Dataset para cada uno de los clientes:"
   ]
  },
  {
   "cell_type": "code",
   "execution_count": null,
   "id": "c441a2a1-eb4c-4338-85b3-282e5c681076",
   "metadata": {},
   "outputs": [],
   "source": [
    "pd.DataFrame({\n",
    "    \"CustomerID\" : [111,111,111]\n",
    "    , \"YearMonth\" : [\"2019-1\",\"2019-2\",\"2019-3\"]\n",
    "    , \"TotalValorInvoices\" : [20000,22000,0]    \n",
    "    , \"TotalCantidadInvoices\" : [3,2,0]    \n",
    "    , \"FacturaSiguienteMes\": [1,0,1]\n",
    "})"
   ]
  },
  {
   "cell_type": "markdown",
   "id": "503648d0-6b5e-4704-be64-56ab14f9b0a9",
   "metadata": {},
   "source": [
    "*Ten en cuenta lo siguiente:*\n",
    "\n",
    "Mediante el cross join puedo emular el producto cartesiano de dos vectores para obtener las combinaciones unicas de los valores de cada uno de ellos"
   ]
  },
  {
   "cell_type": "code",
   "execution_count": null,
   "id": "486623c5-ff8e-4ed2-b9c9-9eb70830f526",
   "metadata": {},
   "outputs": [],
   "source": [
    "df1 = pd.DataFrame( {\"year\": [2019,2020]} )\n",
    "df2 = pd.DataFrame( {\"Cliente\": [111,112,113]} )\n",
    "\n",
    "df2.merge(df1, how='cross')"
   ]
  },
  {
   "cell_type": "markdown",
   "id": "4479e728-d5ce-4513-8289-2a7f74a15243",
   "metadata": {},
   "source": [
    "*Observaciones:*\n",
    "\n",
    "* TotalValorInvoices: La suma del total facturado por todas sus facturas\n",
    "* TotalCantidadInvoices: La cantidad de facturas unicas realizadas en ese mes\n",
    "* FacturaSiguienteMes: Una variable de respuesta que nos dice si al siguiente mes por ese cliente se encontro por lo menos una factura.\n",
    "\n",
    "Note que por la logica de este dataset el ultimo año-mes encontrado en todo el dataset se va a descartar del resultado final por que no se sabe el valor del siguiente mes. 1: si se encuentra una factura al siguiente mes, 0: no se encuentra nada.\n",
    "\n",
    "*Answer:*"
   ]
  },
  {
   "cell_type": "code",
   "execution_count": null,
   "id": "f990d2c9-e833-4390-b6cd-a232c9068228",
   "metadata": {},
   "outputs": [],
   "source": [
    "ecommerce"
   ]
  },
  {
   "cell_type": "code",
   "execution_count": null,
   "id": "5f6a164d-2d7c-4261-a834-5974ac9aeba5",
   "metadata": {},
   "outputs": [],
   "source": []
  },
  {
   "cell_type": "markdown",
   "id": "d043c4cd-ac71-48c8-917f-b649a7df0f84",
   "metadata": {},
   "source": [
    "**Ejercicio cuatro:** Cual es el top 3 de los productos que menos ingresos generan por Pais del ultimo año encontrado del dataset.\n",
    "\n",
    "Ejemplo de como se deberia de ver el dataframe resultante (Recuerde que este es un ejemplo inventado): "
   ]
  },
  {
   "cell_type": "code",
   "execution_count": null,
   "id": "ff6a650c-8712-4b8a-b3ed-6e4c35c3c159",
   "metadata": {},
   "outputs": [],
   "source": [
    "pd.DataFrame({\n",
    "    \"Country\" : [\"Canada\",\"Canada\",\"Canada\",\"Spain\",\"Spain\",\"Spain\"]\n",
    "    , \"Top\" : [1,2,3,1,2,3]    \n",
    "    , \"StockCode\": [546,6886,665,656,888,668]\n",
    "    , \"Description\": [\"Product X\",\"Product K\",\"Product J\",\"Product C\",\"Product D\",\"Product U\"]\n",
    "    , \"TotalOnInvoices\": [2000,2100,4000,3000,3800,3900]\n",
    "})"
   ]
  },
  {
   "cell_type": "markdown",
   "id": "bb2be3fe-1766-4969-abd5-f60a2908d967",
   "metadata": {},
   "source": [
    "*Answer:*"
   ]
  },
  {
   "cell_type": "code",
   "execution_count": null,
   "id": "ca027bdd-7bf8-43ac-8a0e-0e0748da5b0d",
   "metadata": {},
   "outputs": [],
   "source": []
  },
  {
   "cell_type": "code",
   "execution_count": null,
   "id": "bff72076-f4d9-4b3a-bc18-bf16ae3a4dc4",
   "metadata": {},
   "outputs": [],
   "source": []
  },
  {
   "cell_type": "code",
   "execution_count": null,
   "id": "c2aecd68-3d18-4054-8503-cab82f5756fe",
   "metadata": {},
   "outputs": [],
   "source": []
  },
  {
   "cell_type": "code",
   "execution_count": null,
   "id": "92137ab8-fb19-4b37-9bad-8ad6ec88fc96",
   "metadata": {},
   "outputs": [],
   "source": []
  },
  {
   "cell_type": "code",
   "execution_count": null,
   "id": "7e067fb0-6d9f-4f6a-994a-9ea6cfb2c026",
   "metadata": {},
   "outputs": [],
   "source": []
  },
  {
   "cell_type": "code",
   "execution_count": null,
   "id": "e1a2dc6e-f6da-4f52-85da-6725871476c4",
   "metadata": {},
   "outputs": [],
   "source": []
  }
 ],
 "metadata": {
  "kernelspec": {
   "display_name": "Python 3 (ipykernel)",
   "language": "python",
   "name": "python3"
  },
  "language_info": {
   "codemirror_mode": {
    "name": "ipython",
    "version": 3
   },
   "file_extension": ".py",
   "mimetype": "text/x-python",
   "name": "python",
   "nbconvert_exporter": "python",
   "pygments_lexer": "ipython3",
   "version": "3.9.12"
  }
 },
 "nbformat": 4,
 "nbformat_minor": 5
}
